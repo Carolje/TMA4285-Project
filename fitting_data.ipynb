{
 "cells": [
  {
   "cell_type": "code",
   "execution_count": 1,
   "metadata": {},
   "outputs": [],
   "source": [
    "import arimax as model\n",
    "import pandas as pd\n",
    "import numpy as np\n",
    "import statistics as s\n",
    "import scipy.optimize as opt"
   ]
  },
  {
   "cell_type": "code",
   "execution_count": 2,
   "metadata": {},
   "outputs": [
    {
     "data": {
      "text/html": [
       "<div>\n",
       "<style scoped>\n",
       "    .dataframe tbody tr th:only-of-type {\n",
       "        vertical-align: middle;\n",
       "    }\n",
       "\n",
       "    .dataframe tbody tr th {\n",
       "        vertical-align: top;\n",
       "    }\n",
       "\n",
       "    .dataframe thead th {\n",
       "        text-align: right;\n",
       "    }\n",
       "</style>\n",
       "<table border=\"1\" class=\"dataframe\">\n",
       "  <thead>\n",
       "    <tr style=\"text-align: right;\">\n",
       "      <th></th>\n",
       "      <th>Unnamed: 0</th>\n",
       "      <th>CPI</th>\n",
       "      <th>Monthly salary</th>\n",
       "      <th>Policy rate</th>\n",
       "      <th>Unemployed</th>\n",
       "      <th>Intercept</th>\n",
       "    </tr>\n",
       "  </thead>\n",
       "  <tbody>\n",
       "    <tr>\n",
       "      <th>0</th>\n",
       "      <td>0</td>\n",
       "      <td>69.3</td>\n",
       "      <td>20126</td>\n",
       "      <td>3.50</td>\n",
       "      <td>4.0</td>\n",
       "      <td>1.0</td>\n",
       "    </tr>\n",
       "    <tr>\n",
       "      <th>1</th>\n",
       "      <td>1</td>\n",
       "      <td>69.6</td>\n",
       "      <td>20126</td>\n",
       "      <td>3.50</td>\n",
       "      <td>3.7</td>\n",
       "      <td>1.0</td>\n",
       "    </tr>\n",
       "    <tr>\n",
       "      <th>2</th>\n",
       "      <td>2</td>\n",
       "      <td>69.7</td>\n",
       "      <td>20126</td>\n",
       "      <td>3.50</td>\n",
       "      <td>3.6</td>\n",
       "      <td>1.0</td>\n",
       "    </tr>\n",
       "    <tr>\n",
       "      <th>3</th>\n",
       "      <td>3</td>\n",
       "      <td>69.7</td>\n",
       "      <td>20126</td>\n",
       "      <td>3.50</td>\n",
       "      <td>3.4</td>\n",
       "      <td>1.0</td>\n",
       "    </tr>\n",
       "    <tr>\n",
       "      <th>4</th>\n",
       "      <td>4</td>\n",
       "      <td>69.8</td>\n",
       "      <td>20126</td>\n",
       "      <td>3.50</td>\n",
       "      <td>3.2</td>\n",
       "      <td>1.0</td>\n",
       "    </tr>\n",
       "    <tr>\n",
       "      <th>...</th>\n",
       "      <td>...</td>\n",
       "      <td>...</td>\n",
       "      <td>...</td>\n",
       "      <td>...</td>\n",
       "      <td>...</td>\n",
       "      <td>...</td>\n",
       "    </tr>\n",
       "    <tr>\n",
       "      <th>307</th>\n",
       "      <td>307</td>\n",
       "      <td>123.9</td>\n",
       "      <td>53150</td>\n",
       "      <td>1.75</td>\n",
       "      <td>1.6</td>\n",
       "      <td>1.0</td>\n",
       "    </tr>\n",
       "    <tr>\n",
       "      <th>308</th>\n",
       "      <td>308</td>\n",
       "      <td>125.6</td>\n",
       "      <td>53150</td>\n",
       "      <td>1.75</td>\n",
       "      <td>1.6</td>\n",
       "      <td>1.0</td>\n",
       "    </tr>\n",
       "    <tr>\n",
       "      <th>309</th>\n",
       "      <td>309</td>\n",
       "      <td>126.0</td>\n",
       "      <td>53150</td>\n",
       "      <td>2.25</td>\n",
       "      <td>1.6</td>\n",
       "      <td>1.0</td>\n",
       "    </tr>\n",
       "    <tr>\n",
       "      <th>310</th>\n",
       "      <td>310</td>\n",
       "      <td>125.8</td>\n",
       "      <td>53150</td>\n",
       "      <td>2.50</td>\n",
       "      <td>1.6</td>\n",
       "      <td>1.0</td>\n",
       "    </tr>\n",
       "    <tr>\n",
       "      <th>311</th>\n",
       "      <td>311</td>\n",
       "      <td>125.9</td>\n",
       "      <td>53150</td>\n",
       "      <td>2.50</td>\n",
       "      <td>1.6</td>\n",
       "      <td>1.0</td>\n",
       "    </tr>\n",
       "  </tbody>\n",
       "</table>\n",
       "<p>312 rows × 6 columns</p>\n",
       "</div>"
      ],
      "text/plain": [
       "     Unnamed: 0    CPI  Monthly salary  Policy rate  Unemployed  Intercept\n",
       "0             0   69.3           20126         3.50         4.0        1.0\n",
       "1             1   69.6           20126         3.50         3.7        1.0\n",
       "2             2   69.7           20126         3.50         3.6        1.0\n",
       "3             3   69.7           20126         3.50         3.4        1.0\n",
       "4             4   69.8           20126         3.50         3.2        1.0\n",
       "..          ...    ...             ...          ...         ...        ...\n",
       "307         307  123.9           53150         1.75         1.6        1.0\n",
       "308         308  125.6           53150         1.75         1.6        1.0\n",
       "309         309  126.0           53150         2.25         1.6        1.0\n",
       "310         310  125.8           53150         2.50         1.6        1.0\n",
       "311         311  125.9           53150         2.50         1.6        1.0\n",
       "\n",
       "[312 rows x 6 columns]"
      ]
     },
     "execution_count": 2,
     "metadata": {},
     "output_type": "execute_result"
    }
   ],
   "source": [
    "df=pd.read_csv(\"Data1997-2022.csv\")\n",
    "df['Intercept'] = np.ones(len(df))\n",
    "df"
   ]
  },
  {
   "cell_type": "code",
   "execution_count": 3,
   "metadata": {},
   "outputs": [
    {
     "data": {
      "text/plain": [
       "0      NaN\n",
       "1      NaN\n",
       "2      NaN\n",
       "3      NaN\n",
       "4      NaN\n",
       "      ... \n",
       "307    7.6\n",
       "308    8.1\n",
       "309    8.8\n",
       "310    7.7\n",
       "311    7.0\n",
       "Name: CPI, Length: 312, dtype: float64"
      ]
     },
     "execution_count": 3,
     "metadata": {},
     "output_type": "execute_result"
    }
   ],
   "source": [
    "cpi_diff12 = df['CPI'].diff(12)\n",
    "exog_data = df[['Intercept', 'Monthly salary', 'Policy rate', 'Unemployed']]\n",
    "\n",
    "cpi_diff12\n"
   ]
  },
  {
   "cell_type": "code",
   "execution_count": 5,
   "metadata": {},
   "outputs": [],
   "source": [
    "ARX = model.ARMAX(2, 0, cpi_diff12[12:], exog_data[12:])\n",
    "evo_init = -0.5 *np.ones(2) #np.array([-1.6242, -0.8331])\n",
    "var_init = 50 #72\n",
    "beta_init = np.zeros(4) #np.array([1.101e-08, -0.0001, 0.0251, 0.0449])\n",
    "\n",
    "op = ARX.fit_kalman(evo_init, var_init, beta_init)"
   ]
  },
  {
   "cell_type": "code",
   "execution_count": 6,
   "metadata": {},
   "outputs": [
    {
     "data": {
      "text/plain": [
       "array([ 1.28093339e-01, -8.84194514e-01,  1.98032787e+00, -2.61005457e+00,\n",
       "        1.40646219e-04,  3.11146065e-01, -4.59944484e-01])"
      ]
     },
     "execution_count": 6,
     "metadata": {},
     "output_type": "execute_result"
    }
   ],
   "source": [
    "op.x"
   ]
  },
  {
   "cell_type": "code",
   "execution_count": 7,
   "metadata": {},
   "outputs": [
    {
     "data": {
      "text/plain": [
       "array([[ 4.09600000e+03,  1.02400000e+04,  1.53600000e+03,\n",
       "         6.14400000e+03,  4.24550400e+06,  3.58400000e+03,\n",
       "         3.58400000e+03],\n",
       "       [ 1.02400000e+04,  5.47840000e+04,  7.68000000e+03,\n",
       "         7.16800000e+03,  1.55827200e+07,  4.60800000e+03,\n",
       "         5.63200000e+03],\n",
       "       [ 1.53600000e+03,  7.68000000e+03, -5.12000000e+02,\n",
       "         3.07200000e+03,  2.13350400e+06,  5.12000000e+02,\n",
       "         0.00000000e+00],\n",
       "       [ 6.14400000e+03,  7.16800000e+03,  3.07200000e+03,\n",
       "         7.16800000e+03,  2.71303680e+07,  4.60800000e+03,\n",
       "         7.16800000e+03],\n",
       "       [ 4.24550400e+06,  1.55827200e+07,  2.13350400e+06,\n",
       "         2.71303680e+07,  1.05022644e+12,  6.08163840e+07,\n",
       "         7.63755520e+07],\n",
       "       [ 3.58400000e+03,  4.60800000e+03,  5.12000000e+02,\n",
       "         4.60800000e+03,  6.08163840e+07,  8.70400000e+03,\n",
       "         6.65600000e+03],\n",
       "       [ 3.58400000e+03,  5.63200000e+03,  0.00000000e+00,\n",
       "         7.16800000e+03,  7.63755520e+07,  6.65600000e+03,\n",
       "         6.65600000e+03]])"
      ]
     },
     "execution_count": 7,
     "metadata": {},
     "output_type": "execute_result"
    }
   ],
   "source": [
    "def get_jacobian(params):\n",
    "    return opt.approx_fprime(params, ARX.kalman_log_likelihood)\n",
    "\n",
    "def get_hessian(params):\n",
    "    return opt.approx_fprime(params, get_jacobian)\n",
    "\n",
    "get_hessian(op.x)"
   ]
  },
  {
   "cell_type": "code",
   "execution_count": 6,
   "metadata": {},
   "outputs": [
    {
     "name": "stdout",
     "output_type": "stream",
     "text": [
      "                                    Results                                     \n",
      "================================================================================\n",
      "Dep. Variable:                                  CPI\n",
      "Model:                              ARIMAX( 2 , 0 )\n",
      "No. Observations:                               300\n",
      "AIC                                        AICvalue\n",
      "BIC                                        BICvalue\n",
      "Log Likelihood                             Logvalue\n",
      "================================================================================\n",
      "                     coef    std.err          z      P>|z|     [0.025     0.975]\n",
      "--------------------------------------------------------------------------------\n",
      "Intercept       4.236e+00  4.236e+00  4.236e+00  4.236e+00  4.236e+00  4.236e+00\n",
      "Monthly salary  4.236e+00  4.236e+00  4.236e+00  4.236e+00  4.236e+00  4.236e+00\n",
      "Policy rate     4.236e+00  4.236e+00  4.236e+00  4.236e+00  4.236e+00  4.236e+00\n",
      "Unemployed      4.236e+00  4.236e+00  4.236e+00  4.236e+00  4.236e+00  4.236e+00\n",
      "ar.L1           4.236e+00  4.236e+00  4.236e+00  4.236e+00  4.236e+00  4.236e+00\n",
      "ar.L2           4.236e+00  4.236e+00  4.236e+00  4.236e+00  4.236e+00  4.236e+00\n",
      "================================================================================\n"
     ]
    }
   ],
   "source": [
    "ARX.summary()"
   ]
  },
  {
   "cell_type": "code",
   "execution_count": null,
   "metadata": {},
   "outputs": [],
   "source": []
  }
 ],
 "metadata": {
  "kernelspec": {
   "display_name": "Python 3",
   "language": "python",
   "name": "python3"
  },
  "language_info": {
   "codemirror_mode": {
    "name": "ipython",
    "version": 3
   },
   "file_extension": ".py",
   "mimetype": "text/x-python",
   "name": "python",
   "nbconvert_exporter": "python",
   "pygments_lexer": "ipython3",
   "version": "3.10.11"
  }
 },
 "nbformat": 4,
 "nbformat_minor": 2
}
